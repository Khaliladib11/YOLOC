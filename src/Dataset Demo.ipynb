{
 "cells": [
  {
   "cell_type": "markdown",
   "id": "61f2ddff",
   "metadata": {},
   "source": [
    "# BDD Dataset Class Demo"
   ]
  },
  {
   "cell_type": "markdown",
   "id": "807b817f",
   "metadata": {},
   "source": [
    "## Import Libraries "
   ]
  },
  {
   "cell_type": "code",
   "execution_count": 1,
   "id": "06db797d",
   "metadata": {},
   "outputs": [],
   "source": [
    "from data import bdd\n",
    "from config.defaults import cfg\n",
    "from tqdm import tqdm\n",
    "import matplotlib.pyplot as plt\n",
    "from PIL import Image\n",
    "import json\n",
    "import cv2\n",
    "from collections import deque\n",
    "from pathlib import Path"
   ]
  },
  {
   "cell_type": "markdown",
   "id": "fe79996b",
   "metadata": {},
   "source": [
    "## Dataset Class"
   ]
  },
  {
   "cell_type": "code",
   "execution_count": null,
   "id": "ce6ece08",
   "metadata": {},
   "outputs": [],
   "source": [
    "dataset_params = {\n",
    "    'cfg': cfg,\n",
    "    'stage': 'train',\n",
    "    'objects_to_detect': objects_to_detect,\n",
    "    'db_path': 'db.json', \n",
    "    'relative_path': '../',\n",
    "    'image_size': (640, 640), \n",
    "    'transform': None\n",
    "}"
   ]
  },
  {
   "cell_type": "code",
   "execution_count": 5,
   "id": "d6156c48",
   "metadata": {
    "scrolled": true
   },
   "outputs": [
    {
     "name": "stdout",
     "output_type": "stream",
     "text": [
      "CPU times: total: 7.7 s\n",
      "Wall time: 7.72 s\n"
     ]
    }
   ],
   "source": [
    "%%time\n",
    "bdd_dataset = bdd.bddDataset(**dataset_params)"
   ]
  },
  {
   "cell_type": "markdown",
   "id": "38efcb66",
   "metadata": {},
   "source": [
    "## Export db to json file"
   ]
  },
  {
   "cell_type": "code",
   "execution_count": 10,
   "id": "6da0ad2e",
   "metadata": {},
   "outputs": [],
   "source": [
    "bdd_dataset.export_db('db.json')"
   ]
  },
  {
   "cell_type": "markdown",
   "id": "f52dc97b",
   "metadata": {},
   "source": [
    "## Import db to json file "
   ]
  },
  {
   "cell_type": "code",
   "execution_count": 14,
   "id": "2dc048d7",
   "metadata": {},
   "outputs": [],
   "source": [
    "test_load = bdd_dataset.load_db('db.json')"
   ]
  }
 ],
 "metadata": {
  "kernelspec": {
   "display_name": "Python [conda env:yoloc] *",
   "language": "python",
   "name": "conda-env-yoloc-py"
  },
  "language_info": {
   "codemirror_mode": {
    "name": "ipython",
    "version": 3
   },
   "file_extension": ".py",
   "mimetype": "text/x-python",
   "name": "python",
   "nbconvert_exporter": "python",
   "pygments_lexer": "ipython3",
   "version": "3.10.4"
  }
 },
 "nbformat": 4,
 "nbformat_minor": 5
}
