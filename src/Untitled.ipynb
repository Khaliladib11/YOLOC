{
 "cells": [
  {
   "cell_type": "code",
   "execution_count": 1,
   "id": "06db797d",
   "metadata": {},
   "outputs": [],
   "source": [
    "from data import bdd\n",
    "from config.defaults import cfg"
   ]
  },
  {
   "cell_type": "code",
   "execution_count": 2,
   "id": "d6156c48",
   "metadata": {},
   "outputs": [],
   "source": [
    "bdd = bdd.bddDataset(cfg, 'train')"
   ]
  },
  {
   "cell_type": "code",
   "execution_count": 3,
   "id": "299beb43",
   "metadata": {},
   "outputs": [
    {
     "data": {
      "text/plain": [
       "WindowsPath('../dataset/images/bdd100k/images/100k/train')"
      ]
     },
     "execution_count": 3,
     "metadata": {},
     "output_type": "execute_result"
    }
   ],
   "source": [
    "bdd.img_root"
   ]
  },
  {
   "cell_type": "code",
   "execution_count": 4,
   "id": "aa64c6d8",
   "metadata": {},
   "outputs": [
    {
     "data": {
      "text/plain": [
       "70000"
      ]
     },
     "execution_count": 4,
     "metadata": {},
     "output_type": "execute_result"
    }
   ],
   "source": [
    "len(bdd.images)"
   ]
  }
 ],
 "metadata": {
  "kernelspec": {
   "display_name": "Python [conda env:yoloc] *",
   "language": "python",
   "name": "conda-env-yoloc-py"
  },
  "language_info": {
   "codemirror_mode": {
    "name": "ipython",
    "version": 3
   },
   "file_extension": ".py",
   "mimetype": "text/x-python",
   "name": "python",
   "nbconvert_exporter": "python",
   "pygments_lexer": "ipython3",
   "version": "3.10.4"
  }
 },
 "nbformat": 4,
 "nbformat_minor": 5
}
